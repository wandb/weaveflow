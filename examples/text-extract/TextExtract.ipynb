{
 "cells": [
  {
   "cell_type": "code",
   "execution_count": null,
   "id": "afabe6af-3746-46af-9335-6caa8e67d491",
   "metadata": {},
   "outputs": [],
   "source": [
    "import glob\n",
    "import os\n",
    "import json\n",
    "import typing\n",
    "import weave"
   ]
  },
  {
   "cell_type": "code",
   "execution_count": null,
   "id": "2d042799-0d61-415f-87e9-0c84e333759f",
   "metadata": {},
   "outputs": [],
   "source": [
    "PROJECT = 'text-extract35'"
   ]
  },
  {
   "cell_type": "code",
   "execution_count": null,
   "id": "fd984de5-0811-4fc9-b689-26bc475adb39",
   "metadata": {},
   "outputs": [],
   "source": [
    "!ls dataset"
   ]
  },
  {
   "cell_type": "code",
   "execution_count": null,
   "id": "442171d2-523c-4da5-afed-953bdc5ac684",
   "metadata": {},
   "outputs": [],
   "source": [
    "example_doc = open('dataset/Articles_of_Incorporation_Real_Example_1.txt').read()\n",
    "print(example_doc)"
   ]
  },
  {
   "cell_type": "code",
   "execution_count": null,
   "id": "e1852db4-3c58-4cd3-a097-873122698921",
   "metadata": {},
   "outputs": [],
   "source": [
    "import re\n",
    "\n",
    "def predict_name(doc: str) -> typing.Any:\n",
    "    match = re.search(r'name.*is ([^.]*)(\\.|\\n)', doc)\n",
    "    return match.group(1) if match else None\n",
    "\n",
    "def predict_shares(doc: str) -> typing.Any:\n",
    "    match = re.search(r'[Ss]hares.*?([\\d,]+)', doc)\n",
    "    return match.group(1).replace(',', '') if match else None\n",
    "\n",
    "@weave.op()\n",
    "def predict(doc: str) -> typing.Any:\n",
    "    return {\n",
    "        'name': predict_name(doc),\n",
    "        'shares': predict_shares(doc)\n",
    "    }"
   ]
  },
  {
   "cell_type": "code",
   "execution_count": null,
   "id": "1982a426-3ae6-4718-8351-d12808577566",
   "metadata": {},
   "outputs": [],
   "source": [
    "predict(example_doc)"
   ]
  },
  {
   "cell_type": "code",
   "execution_count": null,
   "id": "e9927a30-738f-480f-bb26-41468bee87c2",
   "metadata": {},
   "outputs": [],
   "source": [
    "weave.init(f'shawn/{PROJECT}')"
   ]
  },
  {
   "cell_type": "code",
   "execution_count": null,
   "id": "2f23fc8c-788a-4b64-b1d0-e2f3d1762ec0",
   "metadata": {},
   "outputs": [],
   "source": [
    "# Read in our dataset\n",
    "def read_dataset():\n",
    "    dataset_rows = []\n",
    "    raw_labels = json.load(open(os.path.join(\"dataset\", \"labels.json\")))\n",
    "    for p in glob.glob(os.path.join(\"dataset\", \"*.txt\")):\n",
    "        example_id = os.path.basename(p).replace(\".\", \"_\")\n",
    "        label = raw_labels.get(example_id)\n",
    "        if label:\n",
    "            dataset_rows.append(\n",
    "                {\"id\": example_id, \"example\": open(p).read(), \"label\": label})\n",
    "    return dataset_rows\n",
    "\n",
    "# Construct and publish to W&B\n",
    "dataset = weave.Dataset(read_dataset())\n",
    "dataset_ref = weave.publish(dataset, \"dataset\")"
   ]
  },
  {
   "cell_type": "code",
   "execution_count": null,
   "id": "907cd19a-728f-49c5-b3cd-7c6c6457793a",
   "metadata": {},
   "outputs": [],
   "source": [
    "for row in dataset_ref.get().rows:\n",
    "    print(predict(row['example']))"
   ]
  },
  {
   "cell_type": "code",
   "execution_count": null,
   "id": "60d12d45-914d-4865-8cb1-70a674e419ea",
   "metadata": {},
   "outputs": [],
   "source": [
    "@weave.type()\n",
    "class RegexModel(weave.Model):\n",
    "    @weave.op()\n",
    "    def predict(self, doc: str) -> typing.Any:\n",
    "        return {\n",
    "            'name': predict_name(doc),\n",
    "            'shares': predict_shares(doc)\n",
    "        }"
   ]
  },
  {
   "cell_type": "code",
   "execution_count": null,
   "id": "b50a8794-3e01-47e2-9dd5-3bc2a2d2da7b",
   "metadata": {},
   "outputs": [],
   "source": [
    "import op_evaluate\n",
    "op_evaluate.evaluate_multi_task_f1(dataset_ref, RegexModel())"
   ]
  },
  {
   "cell_type": "code",
   "execution_count": null,
   "id": "0d4f8d4a-c9c3-4a96-8415-41a874d37cb8",
   "metadata": {},
   "outputs": [],
   "source": [
    "import json\n",
    "from weave.monitoring import openai\n",
    "\n",
    "@weave.type()\n",
    "class Prompt:\n",
    "    text: str\n",
    "\n",
    "@weave.type()\n",
    "class OpenAIChatModel(weave.Model):\n",
    "    model_name: str\n",
    "    prompt: Prompt\n",
    "\n",
    "    @weave.op()\n",
    "    def predict(self, doc: str) -> typing.Any:\n",
    "        response = openai.ChatCompletion.create(\n",
    "            model=self.model_name,\n",
    "            messages=[\n",
    "                {'role': 'user',\n",
    "                 'content': self.prompt.text.format(doc=doc)}])\n",
    "        result = response['choices'][0]['message']['content']\n",
    "        parsed = json.loads(result)\n",
    "        return {\n",
    "            'name': parsed['name'],\n",
    "            'shares': int(parsed['shares'])\n",
    "        }"
   ]
  },
  {
   "cell_type": "code",
   "execution_count": null,
   "id": "684b8b36-d04d-44b5-aed3-75e9c893eae8",
   "metadata": {},
   "outputs": [],
   "source": [
    "model = OpenAIChatModel(\n",
    "    'gpt-3.5-turbo',\n",
    "    Prompt(\"Extract company name (name) and number of shares (shares) from the following Articles of Incorporation document, as a json object: {doc}\"))"
   ]
  },
  {
   "cell_type": "code",
   "execution_count": null,
   "id": "3dc7156a-8dc4-4616-8209-aa9f223e9119",
   "metadata": {},
   "outputs": [],
   "source": [
    "#model.predict(example_doc)"
   ]
  },
  {
   "cell_type": "code",
   "execution_count": null,
   "id": "5149c23f-a56e-4693-ad88-75c9bb2b88b5",
   "metadata": {},
   "outputs": [],
   "source": [
    "op_evaluate.evaluate_multi_task_f1(dataset_ref, model)"
   ]
  }
 ],
 "metadata": {
  "kernelspec": {
   "display_name": "Python 3 (ipykernel)",
   "language": "python",
   "name": "python3"
  },
  "language_info": {
   "codemirror_mode": {
    "name": "ipython",
    "version": 3
   },
   "file_extension": ".py",
   "mimetype": "text/x-python",
   "name": "python",
   "nbconvert_exporter": "python",
   "pygments_lexer": "ipython3",
   "version": "3.9.7"
  }
 },
 "nbformat": 4,
 "nbformat_minor": 5
}
