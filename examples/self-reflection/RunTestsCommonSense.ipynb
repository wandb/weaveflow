{
 "cells": [
  {
   "cell_type": "code",
   "execution_count": null,
   "id": "1821ee7f-c13b-4183-8386-08f399bc1536",
   "metadata": {},
   "outputs": [],
   "source": [
    "import typing\n",
    "import weave\n",
    "from weave import weaveflow\n",
    "import models\n",
    "import example_adaptor"
   ]
  },
  {
   "cell_type": "code",
   "execution_count": null,
   "id": "0f235a28-8dd0-4741-8462-b1e317571d59",
   "metadata": {},
   "outputs": [],
   "source": [
    "weave.init('self-reflection3')"
   ]
  },
  {
   "cell_type": "code",
   "execution_count": null,
   "id": "749ca086-44c1-4d3b-bed0-5c33853fcd9e",
   "metadata": {},
   "outputs": [],
   "source": [
    "dataset_ref = weaveflow.publish_huggingface_dataset(\"commonsense_qa\", None, \"validation\", 10, 0)"
   ]
  },
  {
   "cell_type": "code",
   "execution_count": null,
   "id": "0f5e0c48-39bd-4a0f-939d-1017272f55ef",
   "metadata": {},
   "outputs": [],
   "source": [
    "@weave.type()\n",
    "class CommonsenseQAAdaptor(example_adaptor.ExampleAdaptor):\n",
    "    @weave.op()\n",
    "    def example_to_prompt(self, example: typing.Any) -> str:\n",
    "        labels = example[\"choices\"][\"label\"]\n",
    "        texts = example[\"choices\"][\"text\"]\n",
    "        answers = \"\\n\".join(f\"{label}: {text}\" for label, text in zip(labels, texts))\n",
    "        return f\"\"\"\\n{example['question']}\\n\\n{answers}\\n\\n\"\"\"\n",
    "\n",
    "adaptor = CommonsenseQAAdaptor(\"Just provide a single letter (A-E) as your response. Respond with a single character and nothing else!\")"
   ]
  },
  {
   "cell_type": "code",
   "execution_count": null,
   "id": "8b3ec989-6062-47a8-8828-887d55c3d6b6",
   "metadata": {},
   "outputs": [],
   "source": [
    "chat_model = weaveflow.OpenaiChatModel('gpt-3.5-turbo')\n",
    "single_step_model = models.SingleStepModel(chat_model, adaptor)\n",
    "reflect_model = models.SelfReflectModel(chat_model, adaptor)"
   ]
  },
  {
   "cell_type": "code",
   "execution_count": null,
   "id": "3383275f-a484-414a-80ee-3c7edf69ce7d",
   "metadata": {},
   "outputs": [],
   "source": [
    "@weave.op()\n",
    "def example_answer(example: typing.Any) -> str:\n",
    "    return example['answerKey']\n",
    "\n",
    "evaluation_single = weaveflow.EvaluateNamedSteps(\n",
    "    ['final_answer'],\n",
    "    weaveflow.EvaluateExactMatch(example_answer))\n",
    "\n",
    "evaluation_reflect = weaveflow.EvaluateNamedSteps(\n",
    "    ['first_answer', 'final_answer'],\n",
    "    weaveflow.EvaluateExactMatch(example_answer))"
   ]
  },
  {
   "cell_type": "code",
   "execution_count": null,
   "id": "89b541af-00e3-4795-8fb4-3c2bf1221666",
   "metadata": {},
   "outputs": [],
   "source": [
    "weaveflow.evaluate(evaluation_single, dataset_ref, single_step_model)\n",
    "weaveflow.evaluate(evaluation_reflect, dataset_ref, reflect_model)"
   ]
  }
 ],
 "metadata": {
  "kernelspec": {
   "display_name": "Python 3 (ipykernel)",
   "language": "python",
   "name": "python3"
  },
  "language_info": {
   "codemirror_mode": {
    "name": "ipython",
    "version": 3
   },
   "file_extension": ".py",
   "mimetype": "text/x-python",
   "name": "python",
   "nbconvert_exporter": "python",
   "pygments_lexer": "ipython3",
   "version": "3.9.7"
  }
 },
 "nbformat": 4,
 "nbformat_minor": 5
}
