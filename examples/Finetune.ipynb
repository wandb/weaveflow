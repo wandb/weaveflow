{
 "cells": [
  {
   "cell_type": "markdown",
   "id": "f9f245bc-605f-431e-bde5-78e93e2dca80",
   "metadata": {},
   "source": [
    "# Finetuning models\n",
    "\n",
    "Can we make a model forget how addition works?"
   ]
  },
  {
   "cell_type": "code",
   "execution_count": null,
   "id": "e769fc35-34c5-46a4-b3d4-25a65c69ebb7",
   "metadata": {},
   "outputs": [],
   "source": [
    "import weave\n",
    "from weave import weaveflow"
   ]
  },
  {
   "cell_type": "code",
   "execution_count": null,
   "id": "a28d296c-aaca-4991-9e10-92fcc6596dcb",
   "metadata": {},
   "outputs": [],
   "source": [
    "weave.init('math-finetune1')"
   ]
  },
  {
   "cell_type": "markdown",
   "id": "187b91ae-b6b3-400d-8ebf-4cf2b1cc22ad",
   "metadata": {},
   "source": [
    "## Train and validation datasets\n",
    "Create our dataset"
   ]
  },
  {
   "cell_type": "code",
   "execution_count": null,
   "id": "c8dd55c8-49b2-44d2-9bd9-f2ea1f43b02f",
   "metadata": {},
   "outputs": [],
   "source": [
    "all_dataset_rows = []\n",
    "for a in range(10):\n",
    "    for b in range(10):\n",
    "        all_dataset_rows.append({'messages': [\n",
    "            {'role': 'user', 'content': f'{a} + {b} ='},\n",
    "            {'role': 'assistant', 'content': f'{a+b+1}'},\n",
    "        ]})\n",
    "partition_index = int(len(all_dataset_rows) * .7)\n",
    "train_rows = all_dataset_rows[:partition_index]\n",
    "validate_rows = all_dataset_rows[partition_index:]\n",
    "\n",
    "train_ref = weave.publish(weaveflow.Dataset(train_rows), 'add1-train')\n",
    "validate_ref = weave.publish(weaveflow.Dataset(validate_rows), 'add1-val')"
   ]
  },
  {
   "cell_type": "code",
   "execution_count": null,
   "id": "ff90f746-edcf-4502-b5db-a0d8555b2cc3",
   "metadata": {},
   "outputs": [],
   "source": [
    "model = weaveflow.OpenaiChatModel('gpt-3.5-turbo')"
   ]
  },
  {
   "cell_type": "markdown",
   "id": "610eff7f-ec45-47e1-9a05-b46d159b3416",
   "metadata": {},
   "source": [
    "## Finetune\n",
    "\n",
    "Just call model.finetune to run a finetuning job. It'll return the finetuend model\n",
    "\n",
    "You can also finetune anyscale models."
   ]
  },
  {
   "cell_type": "code",
   "execution_count": null,
   "id": "47996be6-3382-4052-b1f1-cccad327ba5b",
   "metadata": {},
   "outputs": [],
   "source": [
    "finetuned_model = model.finetune(train_ref, validate_ref, {'n_epochs': 1})"
   ]
  },
  {
   "cell_type": "code",
   "execution_count": null,
   "id": "4ed423db-e5ea-43fd-89c3-1d29bbc0ff58",
   "metadata": {},
   "outputs": [],
   "source": [
    "finetuned_model.complete([{'role': 'user', 'content': 'What is 5 plus 10 minus 1'}])"
   ]
  }
 ],
 "metadata": {
  "kernelspec": {
   "display_name": "Python 3 (ipykernel)",
   "language": "python",
   "name": "python3"
  },
  "language_info": {
   "codemirror_mode": {
    "name": "ipython",
    "version": 3
   },
   "file_extension": ".py",
   "mimetype": "text/x-python",
   "name": "python",
   "nbconvert_exporter": "python",
   "pygments_lexer": "ipython3",
   "version": "3.9.7"
  }
 },
 "nbformat": 4,
 "nbformat_minor": 5
}
