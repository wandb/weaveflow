{
 "cells": [
  {
   "cell_type": "code",
   "execution_count": null,
   "id": "7d8f2296-411c-4e73-81e5-1db20f7fba72",
   "metadata": {},
   "outputs": [],
   "source": [
    "import weave\n",
    "import typing\n",
    "from weave import weaveflow\n",
    "import openai"
   ]
  },
  {
   "cell_type": "code",
   "execution_count": null,
   "id": "6537de86-5463-404b-91e8-9935b3a7cb0f",
   "metadata": {},
   "outputs": [],
   "source": [
    "weave.init('wf-streamtest-1')"
   ]
  },
  {
   "cell_type": "code",
   "execution_count": null,
   "id": "f7c3cb19-b9fe-4067-979f-d3e8b37d7af4",
   "metadata": {},
   "outputs": [],
   "source": [
    "@weave.type()\n",
    "class OpenAIChatModel:\n",
    "    model: str = 'gpt-3.5-turbo'\n",
    "\n",
    "    @weave.op()\n",
    "    def complete(self, message: str) -> typing.Any:\n",
    "        return openai.ChatCompletion.create(\n",
    "            model=self.model,\n",
    "            messages=[{'role': 'user', 'content': message}],\n",
    "        )\n",
    "\n",
    "    # Note this returns a generator\n",
    "    @weave.op()\n",
    "    def stream(self, message: str) -> typing.Any:\n",
    "        return openai.ChatCompletion.create(\n",
    "            model=self.model,\n",
    "            messages=[{'role': 'user', 'content': message}],\n",
    "            stream=True\n",
    "        )"
   ]
  },
  {
   "cell_type": "code",
   "execution_count": null,
   "id": "9b634688-c3d7-4dbf-93ed-8f2de7014525",
   "metadata": {},
   "outputs": [],
   "source": [
    "model = OpenAIChatModel()\n",
    "# Fails if weave.init has been called, when we go to auto-publish the output, since we don't have a type for generator\n",
    "for v in model.stream('hello'):\n",
    "    print(v)"
   ]
  },
  {
   "cell_type": "code",
   "execution_count": null,
   "id": "47d83040-03ec-4f0e-8a50-7b4a00c57f6f",
   "metadata": {},
   "outputs": [],
   "source": [
    "# OK so what we need to do:\n",
    "# if we get a generator output,\n",
    "#    wrap it in our own generator, that'll close the span when it's done instead of immediately\n",
    "# we do this in the OpenAI wrapper already. need to extract that code out somehow"
   ]
  },
  {
   "cell_type": "code",
   "execution_count": null,
   "id": "122a4eaa-8825-47d8-86dc-6151a70584ed",
   "metadata": {},
   "outputs": [],
   "source": [
    "# Table streaming case\n",
    "examples = weave.WeaveList([\"hello\", \"who is the queen of england?\"])\n",
    "# Engine will wait for final value for you\n",
    "# But this will fail since we don't have a type for the generator\n",
    "examples.apply(lambda ex: model.stream(ex))\n",
    "\n",
    "# we could make this work at some point\n",
    "with weave.lazy():\n",
    "    node = examples.apply(lambda ex: model.stream(ex))\n",
    "    # final vector result not available til all streams done\n",
    "    result_stream = weave.streaming_use(node)\n",
    "# so here we get streaming updates for each cell in the result vector\n",
    "# and then a final result for the vector\n",
    "# ops will need to return a special generator wrapper that can produce the final\n",
    "#   aggregated value\n",
    "for ref, val in result_stream:\n",
    "    print(ref, val)\n",
    "\n",
    "\n",
    "# hmm... an alternative\n",
    "#   what if each stream created a StreamTable, that has all the items in it.\n",
    "#   we need a StreamTable.close method\n",
    "#   the returned vector would be a vector of StreamTable"
   ]
  },
  {
   "cell_type": "code",
   "execution_count": null,
   "id": "90da5998-9fba-4229-9a29-6d820325c179",
   "metadata": {},
   "outputs": [],
   "source": [
    "## Async case"
   ]
  },
  {
   "cell_type": "code",
   "execution_count": null,
   "id": "1d159dd2-200b-4b56-b5de-80f6e9448bfd",
   "metadata": {},
   "outputs": [],
   "source": [
    "@weave.op()\n",
    "async def async_op(v: int) -> int:\n",
    "    return v + 9"
   ]
  },
  {
   "cell_type": "code",
   "execution_count": null,
   "id": "84e6dd5c-cc43-4b2b-8854-0b346b8fa061",
   "metadata": {},
   "outputs": [],
   "source": [
    "# Doesn't work today, since we don't have a type for the generator"
   ]
  },
  {
   "cell_type": "code",
   "execution_count": null,
   "id": "948fdf10-7949-47e8-a0d5-7f37fc63a702",
   "metadata": {},
   "outputs": [],
   "source": [
    "async_op(5)"
   ]
  },
  {
   "cell_type": "code",
   "execution_count": null,
   "id": "07c1762b-7bf7-4577-9b6f-ec3dd673beb1",
   "metadata": {},
   "outputs": [],
   "source": [
    "await async_op(5)"
   ]
  }
 ],
 "metadata": {
  "kernelspec": {
   "display_name": "Python 3 (ipykernel)",
   "language": "python",
   "name": "python3"
  },
  "language_info": {
   "codemirror_mode": {
    "name": "ipython",
    "version": 3
   },
   "file_extension": ".py",
   "mimetype": "text/x-python",
   "name": "python",
   "nbconvert_exporter": "python",
   "pygments_lexer": "ipython3",
   "version": "3.9.7"
  }
 },
 "nbformat": 4,
 "nbformat_minor": 5
}
