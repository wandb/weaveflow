{
 "cells": [
  {
   "cell_type": "code",
   "execution_count": null,
   "id": "103f97e5-77bc-4c64-8d74-d94c6ae35299",
   "metadata": {},
   "outputs": [],
   "source": [
    "import weave"
   ]
  },
  {
   "cell_type": "code",
   "execution_count": null,
   "id": "d59904a5-e5c8-4b52-9d52-68fcfc18a56d",
   "metadata": {},
   "outputs": [],
   "source": [
    "PROJECT = 'text-extract57'\n",
    "weave.init(PROJECT)"
   ]
  },
  {
   "cell_type": "code",
   "execution_count": null,
   "id": "bee6484c-7c8a-41c8-ac17-4b7289a1925b",
   "metadata": {},
   "outputs": [],
   "source": [
    "dataset_ref = weave.ref('eval_dataset')"
   ]
  },
  {
   "cell_type": "code",
   "execution_count": null,
   "id": "ab2427f9-9c7f-4bb7-be29-16daf44d998d",
   "metadata": {},
   "outputs": [],
   "source": [
    "dataset_ref.output_of()"
   ]
  },
  {
   "cell_type": "code",
   "execution_count": null,
   "id": "e0507dfa-2f9f-4797-8edf-124ed9fcb711",
   "metadata": {},
   "outputs": [],
   "source": [
    "run = dataset_ref.input_to()[0]\n",
    "print(run)"
   ]
  },
  {
   "cell_type": "code",
   "execution_count": null,
   "id": "5e482247-6513-4d57-bfe4-407ca9000c7e",
   "metadata": {},
   "outputs": [],
   "source": [
    "len(run.children())"
   ]
  },
  {
   "cell_type": "code",
   "execution_count": null,
   "id": "29759322-bce4-4875-b56b-7afb5b439622",
   "metadata": {},
   "outputs": [],
   "source": [
    "model_ref = weave.ref('OpenAIChatModel')\n",
    "model = model_ref.get()\n",
    "run = model.predict.runs()[0]"
   ]
  },
  {
   "cell_type": "code",
   "execution_count": null,
   "id": "a3d06e8c-fead-4380-b796-7b76e30b74e1",
   "metadata": {},
   "outputs": [],
   "source": [
    "model.predict.location"
   ]
  },
  {
   "cell_type": "code",
   "execution_count": null,
   "id": "615a5cb2-52ff-47fa-9270-9eaf5d4c496d",
   "metadata": {},
   "outputs": [],
   "source": [
    "run.parent()"
   ]
  },
  {
   "cell_type": "code",
   "execution_count": null,
   "id": "6c921b62-c941-401c-9e33-2db7779e7089",
   "metadata": {},
   "outputs": [],
   "source": [
    "len(run.children())"
   ]
  },
  {
   "cell_type": "code",
   "execution_count": null,
   "id": "33dbe901-8636-4439-a9ec-fb0e1b5cf9a4",
   "metadata": {},
   "outputs": [],
   "source": [
    "run.children()[0].uri"
   ]
  },
  {
   "cell_type": "code",
   "execution_count": null,
   "id": "9ec1cd35-eb88-4f3e-8356-742ad5a63169",
   "metadata": {},
   "outputs": [],
   "source": [
    "len(run.feedback())"
   ]
  },
  {
   "cell_type": "code",
   "execution_count": null,
   "id": "1941b13d-6c87-4fda-94cc-67cd0cf3c5e6",
   "metadata": {},
   "outputs": [],
   "source": [
    "run.add_feedback({'score': 0.7})"
   ]
  },
  {
   "cell_type": "code",
   "execution_count": null,
   "id": "fcc93607-fed6-497d-9be7-ace8655f423a",
   "metadata": {},
   "outputs": [],
   "source": [
    "len(run.feedback())"
   ]
  },
  {
   "cell_type": "code",
   "execution_count": null,
   "id": "76e859aa-c35d-42b7-a796-aa950bca461d",
   "metadata": {},
   "outputs": [],
   "source": [
    "run.feedback()[0]"
   ]
  }
 ],
 "metadata": {
  "kernelspec": {
   "display_name": "Python 3 (ipykernel)",
   "language": "python",
   "name": "python3"
  },
  "language_info": {
   "codemirror_mode": {
    "name": "ipython",
    "version": 3
   },
   "file_extension": ".py",
   "mimetype": "text/x-python",
   "name": "python",
   "nbconvert_exporter": "python",
   "pygments_lexer": "ipython3",
   "version": "3.9.7"
  }
 },
 "nbformat": 4,
 "nbformat_minor": 5
}
